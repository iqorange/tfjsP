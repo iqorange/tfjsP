{
 "cells": [
  {
   "cell_type": "code",
   "execution_count": 1,
   "metadata": {},
   "outputs": [],
   "source": [
    "import numpy as np\n",
    "import matplotlib.pyplot as plt"
   ]
  },
  {
   "cell_type": "code",
   "execution_count": 2,
   "metadata": {},
   "outputs": [
    {
     "data": {
      "text/plain": [
       "array([ 0, 69, 80, 33, 25, 42, 40,  8, 40, 28, 63, 29, 25, 97, 94, 87, 21,\n",
       "       63, 39, 48, 45, 42, 72, 39, 85, 97, 93, 73,  5, 81, 48, 64,  8, 70,\n",
       "       56, 74, 75, 93, 34, 99, 72, 49, 90, 74, 19, 64, 27,  0, 43, 66, 64,\n",
       "       89, 65, 49, 33, 31, 99, 55, 55, 80, 59, 65, 11, 18, 22, 62, 42, 51,\n",
       "       59,  2, 44, 30, 87, 76, 13, 40, 98, 69,  9, 82, 71, 11, 72,  6, 95,\n",
       "       69, 48, 28, 68, 37, 47, 49, 71, 43,  9, 18, 59, 61, 91, 29])"
      ]
     },
     "execution_count": 2,
     "metadata": {},
     "output_type": "execute_result"
    }
   ],
   "source": [
    "x = np.random.randint(0, 100, size=100)\n",
    "x"
   ]
  },
  {
   "cell_type": "code",
   "execution_count": 3,
   "metadata": {},
   "outputs": [
    {
     "data": {
      "text/plain": [
       "array([0.        , 0.6969697 , 0.80808081, 0.33333333, 0.25252525,\n",
       "       0.42424242, 0.4040404 , 0.08080808, 0.4040404 , 0.28282828,\n",
       "       0.63636364, 0.29292929, 0.25252525, 0.97979798, 0.94949495,\n",
       "       0.87878788, 0.21212121, 0.63636364, 0.39393939, 0.48484848,\n",
       "       0.45454545, 0.42424242, 0.72727273, 0.39393939, 0.85858586,\n",
       "       0.97979798, 0.93939394, 0.73737374, 0.05050505, 0.81818182,\n",
       "       0.48484848, 0.64646465, 0.08080808, 0.70707071, 0.56565657,\n",
       "       0.74747475, 0.75757576, 0.93939394, 0.34343434, 1.        ,\n",
       "       0.72727273, 0.49494949, 0.90909091, 0.74747475, 0.19191919,\n",
       "       0.64646465, 0.27272727, 0.        , 0.43434343, 0.66666667,\n",
       "       0.64646465, 0.8989899 , 0.65656566, 0.49494949, 0.33333333,\n",
       "       0.31313131, 1.        , 0.55555556, 0.55555556, 0.80808081,\n",
       "       0.5959596 , 0.65656566, 0.11111111, 0.18181818, 0.22222222,\n",
       "       0.62626263, 0.42424242, 0.51515152, 0.5959596 , 0.02020202,\n",
       "       0.44444444, 0.3030303 , 0.87878788, 0.76767677, 0.13131313,\n",
       "       0.4040404 , 0.98989899, 0.6969697 , 0.09090909, 0.82828283,\n",
       "       0.71717172, 0.11111111, 0.72727273, 0.06060606, 0.95959596,\n",
       "       0.6969697 , 0.48484848, 0.28282828, 0.68686869, 0.37373737,\n",
       "       0.47474747, 0.49494949, 0.71717172, 0.43434343, 0.09090909,\n",
       "       0.18181818, 0.5959596 , 0.61616162, 0.91919192, 0.29292929])"
      ]
     },
     "execution_count": 3,
     "metadata": {},
     "output_type": "execute_result"
    }
   ],
   "source": [
    "(x- np.min(x)) / (np.max(x) - np.min(x))"
   ]
  },
  {
   "cell_type": "code",
   "execution_count": 4,
   "metadata": {},
   "outputs": [],
   "source": [
    "X = np.random.randint(0, 100, (50, 2))"
   ]
  },
  {
   "cell_type": "code",
   "execution_count": 5,
   "metadata": {},
   "outputs": [
    {
     "data": {
      "text/plain": [
       "array([[96, 75],\n",
       "       [23, 49],\n",
       "       [48, 75],\n",
       "       [38,  9],\n",
       "       [74,  1],\n",
       "       [43, 37],\n",
       "       [19, 81],\n",
       "       [38, 46],\n",
       "       [33, 54],\n",
       "       [67, 28]])"
      ]
     },
     "execution_count": 5,
     "metadata": {},
     "output_type": "execute_result"
    }
   ],
   "source": [
    "X[:10, :]"
   ]
  },
  {
   "cell_type": "code",
   "execution_count": 6,
   "metadata": {},
   "outputs": [],
   "source": [
    "X = np.array(X, dtype=float)"
   ]
  },
  {
   "cell_type": "code",
   "execution_count": 7,
   "metadata": {},
   "outputs": [
    {
     "data": {
      "text/plain": [
       "array([[96., 75.],\n",
       "       [23., 49.],\n",
       "       [48., 75.],\n",
       "       [38.,  9.],\n",
       "       [74.,  1.],\n",
       "       [43., 37.],\n",
       "       [19., 81.],\n",
       "       [38., 46.],\n",
       "       [33., 54.],\n",
       "       [67., 28.]])"
      ]
     },
     "execution_count": 7,
     "metadata": {},
     "output_type": "execute_result"
    }
   ],
   "source": [
    "X[:10, :]"
   ]
  },
  {
   "cell_type": "code",
   "execution_count": 8,
   "metadata": {},
   "outputs": [],
   "source": [
    "X[:, 0] = (X[:, 0] - np.min(X[:, 0])) / (np.max(X[:, 0]) - np.min(X[:, 0]))"
   ]
  },
  {
   "cell_type": "code",
   "execution_count": 9,
   "metadata": {},
   "outputs": [],
   "source": [
    "X[:, 1] = (X[:, 1] - np.min(X[:, 1])) / (np.max(X[:, 1]) - np.min(X[:, 1]))"
   ]
  },
  {
   "cell_type": "code",
   "execution_count": 10,
   "metadata": {},
   "outputs": [
    {
     "data": {
      "text/plain": [
       "array([[0.98947368, 0.7628866 ],\n",
       "       [0.22105263, 0.49484536],\n",
       "       [0.48421053, 0.7628866 ],\n",
       "       [0.37894737, 0.08247423],\n",
       "       [0.75789474, 0.        ],\n",
       "       [0.43157895, 0.37113402],\n",
       "       [0.17894737, 0.82474227],\n",
       "       [0.37894737, 0.46391753],\n",
       "       [0.32631579, 0.54639175],\n",
       "       [0.68421053, 0.27835052]])"
      ]
     },
     "execution_count": 10,
     "metadata": {},
     "output_type": "execute_result"
    }
   ],
   "source": [
    "X[:10, :]"
   ]
  },
  {
   "cell_type": "code",
   "execution_count": 11,
   "metadata": {},
   "outputs": [
    {
     "data": {
      "image/png": "[encoded data removed]",
      "text/plain": [
       "<Figure size 432x288 with 1 Axes>"
      ]
     },
     "metadata": {
      "needs_background": "light"
     },
     "output_type": "display_data"
    }
   ],
   "source": [
    "plt.scatter(X[:, 0], X[:, 1])\n",
    "plt.show()"
   ]
  },
  {
   "cell_type": "code",
   "execution_count": 12,
   "metadata": {},
   "outputs": [
    {
     "data": {
      "text/plain": [
       "0.49642105263157893"
      ]
     },
     "execution_count": 12,
     "metadata": {},
     "output_type": "execute_result"
    }
   ],
   "source": [
    "np.mean(X[:, 0])"
   ]
  },
  {
   "cell_type": "code",
   "execution_count": 13,
   "metadata": {},
   "outputs": [
    {
     "data": {
      "text/plain": [
       "0.27230714286518753"
      ]
     },
     "execution_count": 13,
     "metadata": {},
     "output_type": "execute_result"
    }
   ],
   "source": [
    "np.std(X[:, 0])"
   ]
  },
  {
   "cell_type": "code",
   "execution_count": 14,
   "metadata": {},
   "outputs": [
    {
     "data": {
      "text/plain": [
       "0.5476288659793815"
      ]
     },
     "execution_count": 14,
     "metadata": {},
     "output_type": "execute_result"
    }
   ],
   "source": [
    "np.mean(X[:, 1])"
   ]
  },
  {
   "cell_type": "code",
   "execution_count": 15,
   "metadata": {},
   "outputs": [
    {
     "data": {
      "text/plain": [
       "0.2833355819015971"
      ]
     },
     "execution_count": 15,
     "metadata": {},
     "output_type": "execute_result"
    }
   ],
   "source": [
    "np.std(X[:, 1])"
   ]
  },
  {
   "cell_type": "code",
   "execution_count": 16,
   "metadata": {},
   "outputs": [],
   "source": [
    "X2 = np.random.randint(0, 100, (500, 2))"
   ]
  },
  {
   "cell_type": "code",
   "execution_count": 17,
   "metadata": {},
   "outputs": [],
   "source": [
    "X2 = np.array(X2, dtype=float)"
   ]
  },
  {
   "cell_type": "code",
   "execution_count": 19,
   "metadata": {},
   "outputs": [],
   "source": [
    "X2[:, 0] = (X2[:, 0] - np.mean(X2[:, 0])) / np.std(X2[:, 0])"
   ]
  },
  {
   "cell_type": "code",
   "execution_count": 20,
   "metadata": {},
   "outputs": [],
   "source": [
    "X2[:, 1] = (X2[:, 1] - np.mean(X2[:, 1])) / np.std(X2[:, 1])"
   ]
  },
  {
   "cell_type": "code",
   "execution_count": 21,
   "metadata": {},
   "outputs": [
    {
     "data": {
      "image/png": "[encoded data removed]",
      "text/plain": [
       "<Figure size 432x288 with 1 Axes>"
      ]
     },
     "metadata": {
      "needs_background": "light"
     },
     "output_type": "display_data"
    }
   ],
   "source": [
    "plt.scatter(X2[:, 0], X2[:, 1])\n",
    "plt.show()"
   ]
  },
  {
   "cell_type": "code",
   "execution_count": 23,
   "metadata": {},
   "outputs": [
    {
     "data": {
      "text/plain": [
       "-1.0391687510491466e-16"
      ]
     },
     "execution_count": 23,
     "metadata": {},
     "output_type": "execute_result"
    }
   ],
   "source": [
    "np.mean(X2[:,0])"
   ]
  },
  {
   "cell_type": "code",
   "execution_count": 24,
   "metadata": {},
   "outputs": [
    {
     "data": {
      "text/plain": [
       "1.0"
      ]
     },
     "execution_count": 24,
     "metadata": {},
     "output_type": "execute_result"
    }
   ],
   "source": [
    "np.std(X2[:, 0])"
   ]
  },
  {
   "cell_type": "code",
   "execution_count": 25,
   "metadata": {},
   "outputs": [
    {
     "data": {
      "text/plain": [
       "1.1368683772161603e-16"
      ]
     },
     "execution_count": 25,
     "metadata": {},
     "output_type": "execute_result"
    }
   ],
   "source": [
    "np.mean(X2[:,1])"
   ]
  },
  {
   "cell_type": "code",
   "execution_count": 26,
   "metadata": {},
   "outputs": [
    {
     "data": {
      "text/plain": [
       "1.0"
      ]
     },
     "execution_count": 26,
     "metadata": {},
     "output_type": "execute_result"
    }
   ],
   "source": [
    "np.std(X2[:, 1])"
   ]
  },
  {
   "cell_type": "code",
   "execution_count": null,
   "metadata": {},
   "outputs": [],
   "source": []
  }
 ],
 "metadata": {
  "kernelspec": {
   "display_name": "Python 3",
   "language": "python",
   "name": "python3"
  },
  "language_info": {
   "codemirror_mode": {
    "name": "ipython",
    "version": 3
   },
   "file_extension": ".py",
   "mimetype": "text/x-python",
   "name": "python",
   "nbconvert_exporter": "python",
   "pygments_lexer": "ipython3",
   "version": "3.8.5"
  }
 },
 "nbformat": 4,
 "nbformat_minor": 4
}
